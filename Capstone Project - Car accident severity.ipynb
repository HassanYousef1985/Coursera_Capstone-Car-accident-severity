{
    "cells": [
        {
            "metadata": {},
            "cell_type": "markdown",
            "source": "# Capstone Project - Car accident severity"
        },
        {
            "metadata": {},
            "cell_type": "markdown",
            "source": "# Table of contents\n### -Introduction\n### -Data\n### -Methodology\n### -Analysis\n### -Results and Discussion\n### -Conclusion"
        },
        {
            "metadata": {},
            "cell_type": "markdown",
            "source": "## 1. Introduction "
        },
        {
            "metadata": {},
            "cell_type": "markdown",
            "source": "I will study the effect of Road accidents. Sometimes they lead to a loss of property and even life. It would be great to be able to understand what are the most common causes, in order to prevent them from happening? \nWith this analysis, I am attempting to understand these factors and their correlation. This analysis has multiple applications like an app that will prompt the drivers to be more careful depending on the weather and road conditions on any given day or a way for the police to enforce more safety protocols."
        },
        {
            "metadata": {},
            "cell_type": "markdown",
            "source": "# 2. Data"
        },
        {
            "metadata": {},
            "cell_type": "markdown",
            "source": "## 2.1 Data Description"
        },
        {
            "metadata": {},
            "cell_type": "markdown",
            "source": "This is an extensive data set from the Seattle Police Department, with over 190,000 observations collected over the last 15+ years. \nTo accurately build a model to prevent future accidents and/or reduce their severity, we will use the following attributes \u2014 ADDRTYPE, WEATHER, ROADCOND, VEHCOUNT, PERSONCOUNT."
        },
        {
            "metadata": {},
            "cell_type": "markdown",
            "source": "## 2.2 Data Preparation"
        },
        {
            "metadata": {},
            "cell_type": "markdown",
            "source": "## First, let's import all the libraries that we will need"
        },
        {
            "metadata": {},
            "cell_type": "code",
            "source": "import numpy as np # library to handle data in a vectorized manner\nimport pandas as pd # library for data analsysis\n\nimport matplotlib.pyplot as plt\nimport matplotlib as mpl\n\nfrom sklearn import preprocessing\nfrom sklearn.model_selection import train_test_split\n\nprint('Libraries imported.')",
            "execution_count": 72,
            "outputs": [
                {
                    "output_type": "stream",
                    "text": "Libraries imported.\n",
                    "name": "stdout"
                }
            ]
        },
        {
            "metadata": {},
            "cell_type": "markdown",
            "source": "# Importing Dataset."
        },
        {
            "metadata": {},
            "cell_type": "code",
            "source": "main_df=pd.read_csv(\"https://s3.us.cloud-object-storage.appdomain.cloud/cf-courses-data/CognitiveClass/DP0701EN/version-2/Data-Collisions.csv\")\nprint(main_df.head(5))",
            "execution_count": 73,
            "outputs": [
                {
                    "output_type": "stream",
                    "text": "   SEVERITYCODE           X          Y  OBJECTID  INCKEY  COLDETKEY REPORTNO  \\\n0             2 -122.323148  47.703140         1    1307       1307  3502005   \n1             1 -122.347294  47.647172         2   52200      52200  2607959   \n2             1 -122.334540  47.607871         3   26700      26700  1482393   \n3             1 -122.334803  47.604803         4    1144       1144  3503937   \n4             2 -122.306426  47.545739         5   17700      17700  1807429   \n\n    STATUS      ADDRTYPE   INTKEY  ... ROADCOND                LIGHTCOND  \\\n0  Matched  Intersection  37475.0  ...      Wet                 Daylight   \n1  Matched         Block      NaN  ...      Wet  Dark - Street Lights On   \n2  Matched         Block      NaN  ...      Dry                 Daylight   \n3  Matched         Block      NaN  ...      Dry                 Daylight   \n4  Matched  Intersection  34387.0  ...      Wet                 Daylight   \n\n  PEDROWNOTGRNT  SDOTCOLNUM SPEEDING ST_COLCODE  \\\n0           NaN         NaN      NaN         10   \n1           NaN   6354039.0      NaN         11   \n2           NaN   4323031.0      NaN         32   \n3           NaN         NaN      NaN         23   \n4           NaN   4028032.0      NaN         10   \n\n                                          ST_COLDESC  SEGLANEKEY  \\\n0                                  Entering at angle           0   \n1  From same direction - both going straight - bo...           0   \n2                             One parked--one moving           0   \n3                   From same direction - all others           0   \n4                                  Entering at angle           0   \n\n   CROSSWALKKEY  HITPARKEDCAR  \n0             0             N  \n1             0             N  \n2             0             N  \n3             0             N  \n4             0             N  \n\n[5 rows x 38 columns]\n",
                    "name": "stdout"
                }
            ]
        },
        {
            "metadata": {},
            "cell_type": "markdown",
            "source": "# Converting Severity Code from [1,2] tp [0,1]"
        },
        {
            "metadata": {},
            "cell_type": "code",
            "source": "severity_code = main_df['SEVERITYCODE'].values\n\nlabels = preprocessing.LabelEncoder()\nlabels.fit([1, 2])\nseverity_code = labels.transform (severity_code)\n\nmain_df [\"SEVERITYCODE\"] = severity_code\nprint(main_df.head(5))",
            "execution_count": 74,
            "outputs": [
                {
                    "output_type": "stream",
                    "text": "   SEVERITYCODE           X          Y  OBJECTID  INCKEY  COLDETKEY REPORTNO  \\\n0             1 -122.323148  47.703140         1    1307       1307  3502005   \n1             0 -122.347294  47.647172         2   52200      52200  2607959   \n2             0 -122.334540  47.607871         3   26700      26700  1482393   \n3             0 -122.334803  47.604803         4    1144       1144  3503937   \n4             1 -122.306426  47.545739         5   17700      17700  1807429   \n\n    STATUS      ADDRTYPE   INTKEY  ... ROADCOND                LIGHTCOND  \\\n0  Matched  Intersection  37475.0  ...      Wet                 Daylight   \n1  Matched         Block      NaN  ...      Wet  Dark - Street Lights On   \n2  Matched         Block      NaN  ...      Dry                 Daylight   \n3  Matched         Block      NaN  ...      Dry                 Daylight   \n4  Matched  Intersection  34387.0  ...      Wet                 Daylight   \n\n  PEDROWNOTGRNT  SDOTCOLNUM SPEEDING ST_COLCODE  \\\n0           NaN         NaN      NaN         10   \n1           NaN   6354039.0      NaN         11   \n2           NaN   4323031.0      NaN         32   \n3           NaN         NaN      NaN         23   \n4           NaN   4028032.0      NaN         10   \n\n                                          ST_COLDESC  SEGLANEKEY  \\\n0                                  Entering at angle           0   \n1  From same direction - both going straight - bo...           0   \n2                             One parked--one moving           0   \n3                   From same direction - all others           0   \n4                                  Entering at angle           0   \n\n   CROSSWALKKEY  HITPARKEDCAR  \n0             0             N  \n1             0             N  \n2             0             N  \n3             0             N  \n4             0             N  \n\n[5 rows x 38 columns]\n",
                    "name": "stdout"
                }
            ]
        },
        {
            "metadata": {},
            "cell_type": "markdown",
            "source": "# Descriptive States"
        },
        {
            "metadata": {},
            "cell_type": "code",
            "source": "descriptive_stats= main_df.describe(include=\"all\")\nprint(descriptive_stats)",
            "execution_count": 75,
            "outputs": [
                {
                    "output_type": "stream",
                    "text": "         SEVERITYCODE              X              Y       OBJECTID  \\\ncount   194673.000000  189339.000000  189339.000000  194673.000000   \nunique            NaN            NaN            NaN            NaN   \ntop               NaN            NaN            NaN            NaN   \nfreq              NaN            NaN            NaN            NaN   \nmean         0.298901    -122.330518      47.619543  108479.364930   \nstd          0.457778       0.029976       0.056157   62649.722558   \nmin          0.000000    -122.419091      47.495573       1.000000   \n25%          0.000000    -122.348673      47.575956   54267.000000   \n50%          0.000000    -122.330224      47.615369  106912.000000   \n75%          1.000000    -122.311937      47.663664  162272.000000   \nmax          1.000000    -122.238949      47.734142  219547.000000   \n\n               INCKEY      COLDETKEY REPORTNO   STATUS ADDRTYPE  \\\ncount   194673.000000  194673.000000   194673   194673   192747   \nunique            NaN            NaN   194670        2        3   \ntop               NaN            NaN  1782439  Matched    Block   \nfreq              NaN            NaN        2   189786   126926   \nmean    141091.456350  141298.811381      NaN      NaN      NaN   \nstd      86634.402737   86986.542110      NaN      NaN      NaN   \nmin       1001.000000    1001.000000      NaN      NaN      NaN   \n25%      70383.000000   70383.000000      NaN      NaN      NaN   \n50%     123363.000000  123363.000000      NaN      NaN      NaN   \n75%     203319.000000  203459.000000      NaN      NaN      NaN   \nmax     331454.000000  332954.000000      NaN      NaN      NaN   \n\n               INTKEY  ... ROADCOND LIGHTCOND PEDROWNOTGRNT    SDOTCOLNUM  \\\ncount    65070.000000  ...   189661    189503          4667  1.149360e+05   \nunique            NaN  ...        9         9             1           NaN   \ntop               NaN  ...      Dry  Daylight             Y           NaN   \nfreq              NaN  ...   124510    116137          4667           NaN   \nmean     37558.450576  ...      NaN       NaN           NaN  7.972521e+06   \nstd      51745.990273  ...      NaN       NaN           NaN  2.553533e+06   \nmin      23807.000000  ...      NaN       NaN           NaN  1.007024e+06   \n25%      28667.000000  ...      NaN       NaN           NaN  6.040015e+06   \n50%      29973.000000  ...      NaN       NaN           NaN  8.023022e+06   \n75%      33973.000000  ...      NaN       NaN           NaN  1.015501e+07   \nmax     757580.000000  ...      NaN       NaN           NaN  1.307202e+07   \n\n       SPEEDING ST_COLCODE              ST_COLDESC     SEGLANEKEY  \\\ncount      9333     194655                  189769  194673.000000   \nunique        1        115                      62            NaN   \ntop           Y         32  One parked--one moving            NaN   \nfreq       9333      27612                   44421            NaN   \nmean        NaN        NaN                     NaN     269.401114   \nstd         NaN        NaN                     NaN    3315.776055   \nmin         NaN        NaN                     NaN       0.000000   \n25%         NaN        NaN                     NaN       0.000000   \n50%         NaN        NaN                     NaN       0.000000   \n75%         NaN        NaN                     NaN       0.000000   \nmax         NaN        NaN                     NaN  525241.000000   \n\n        CROSSWALKKEY  HITPARKEDCAR  \ncount   1.946730e+05        194673  \nunique           NaN             2  \ntop              NaN             N  \nfreq             NaN        187457  \nmean    9.782452e+03           NaN  \nstd     7.226926e+04           NaN  \nmin     0.000000e+00           NaN  \n25%     0.000000e+00           NaN  \n50%     0.000000e+00           NaN  \n75%     0.000000e+00           NaN  \nmax     5.239700e+06           NaN  \n\n[11 rows x 38 columns]\n",
                    "name": "stdout"
                }
            ]
        },
        {
            "metadata": {},
            "cell_type": "markdown",
            "source": "# Plotting counts of selected variables"
        },
        {
            "metadata": {},
            "cell_type": "code",
            "source": "descriptive_stats_plot=descriptive_stats[[\"INATTENTIONIND\",\"UNDERINFL\",\"WEATHER\",\"ROADCOND\",\"LIGHTCOND\",\"SPEEDING\",\"SEVERITYCODE\"]]\ndescriptive_stats_plot.drop(['unique','top','freq','mean','std','min','max','25%','50%','75%'],axis=0,inplace=True)\ndescriptive_stats_plot=descriptive_stats_plot.transpose()\n\ncolor_yo=['blue','Cyan','Cyan','Cyan','Cyan','blue','Cyan']\ndescriptive_stats_plot.plot(kind='bar',alpha=0.70,color=[color_yo], figsize=(15, 9))\nplt.title('Number of entries in data for each variable - Seattle, Washington', fontsize=20, fontweight='bold')\nplt.xlabel(\"Variables\",fontsize=15,labelpad=20)\nplt.ylabel(\"Frequency\",fontsize=15,labelpad=20)\nplt.xticks(rotation=360)\nplt.show()",
            "execution_count": 76,
            "outputs": [
                {
                    "output_type": "display_data",
                    "data": {
                        "text/plain": "<Figure size 1080x648 with 1 Axes>",
                        "image/png": "[encoded data removed]"
                    },
                    "metadata": {
                        "needs_background": "light"
                    }
                }
            ]
        },
        {
            "metadata": {},
            "cell_type": "markdown",
            "source": "# Area type of each accident"
        },
        {
            "metadata": {},
            "cell_type": "code",
            "source": "explode_list = [0.05, 0.05, 0.2]\ncolor_list=['green','yellow','red']\naddtype=main_df['ADDRTYPE'].value_counts()\n\naddtype.plot(kind='pie',\n            figsize=(15, 6),\n            autopct='%1.1f%%',\n            startangle=90,\n            shadow=None,\n            labels=None,\n            pctdistance=1.12,\n            colors=color_list,\n            explode=explode_list)\n\n\nplt.title('Area of accident - Seattle, Washington', fontsize=20, fontweight='bold', y=1.05)\nplt.axis('equal')\nplt.legend(labels=addtype.index, loc='lower left')\n\nplt.show()\n\n",
            "execution_count": 77,
            "outputs": [
                {
                    "output_type": "display_data",
                    "data": {
                        "text/plain": "<Figure size 1080x432 with 1 Axes>",
                        "image/png": "[encoded data removed]"
                    },
                    "metadata": {}
                }
            ]
        },
        {
            "metadata": {},
            "cell_type": "markdown",
            "source": "# Check IncKey unqiue numbers"
        },
        {
            "metadata": {},
            "cell_type": "code",
            "source": "main_df['INCKEY'].nunique()",
            "execution_count": 78,
            "outputs": [
                {
                    "output_type": "execute_result",
                    "execution_count": 78,
                    "data": {
                        "text/plain": "194673"
                    },
                    "metadata": {}
                }
            ]
        },
        {
            "metadata": {},
            "cell_type": "markdown",
            "source": "### Encoding in attention (0 = No, 1 = Yes)"
        },
        {
            "metadata": {},
            "cell_type": "code",
            "source": "main_df[\"INATTENTIONIND\"].replace(\"Y\", 1, inplace=True)\nmain_df[\"INATTENTIONIND\"].replace(np.nan, 0, inplace=True)",
            "execution_count": 79,
            "outputs": []
        },
        {
            "metadata": {},
            "cell_type": "markdown",
            "source": "### Encoding Under the influence (0 = No, 1 = Yes)"
        },
        {
            "metadata": {},
            "cell_type": "code",
            "source": "main_df[\"UNDERINFL\"].replace(\"N\", 0, inplace=True)\nmain_df[\"UNDERINFL\"].replace(\"Y\", 1, inplace=True)",
            "execution_count": 80,
            "outputs": []
        },
        {
            "metadata": {},
            "cell_type": "markdown",
            "source": "### Encoding Speeding(0 = No, 1 = Yes)"
        },
        {
            "metadata": {},
            "cell_type": "code",
            "source": "main_df[\"SPEEDING\"].replace(\"Y\", 1, inplace=True)\nmain_df[\"SPEEDING\"].replace(np.nan, 0, inplace=True)",
            "execution_count": 81,
            "outputs": []
        },
        {
            "metadata": {},
            "cell_type": "markdown",
            "source": "### Encoding Light Conditions(0 = Light, 1 = Medium, 2 = Dark)"
        },
        {
            "metadata": {},
            "cell_type": "code",
            "source": "main_df[\"LIGHTCOND\"].replace(\"Daylight\", 0, inplace=True)\nmain_df[\"LIGHTCOND\"].replace(\"Dark - Street Lights On\", 1, inplace=True)\nmain_df[\"LIGHTCOND\"].replace(\"Dark - No Street Lights\", 2, inplace=True)\nmain_df[\"LIGHTCOND\"].replace(\"Dusk\", 1, inplace=True)\nmain_df[\"LIGHTCOND\"].replace(\"Dawn\", 1, inplace=True)\nmain_df[\"LIGHTCOND\"].replace(\"Dark - Street Lights Off\", 2, inplace=True)\nmain_df[\"LIGHTCOND\"].replace(\"Dark - Unknown Lighting\", 2, inplace=True)\nmain_df[\"LIGHTCOND\"].replace(\"Other\",\"Unknown\", inplace=True)",
            "execution_count": 82,
            "outputs": []
        },
        {
            "metadata": {},
            "cell_type": "markdown",
            "source": "### Encoding Weather Conditions(0 = Clear, 1 = Overcast and Cloudy, 2 = Windy, 3 = Rain and Snow"
        },
        {
            "metadata": {},
            "cell_type": "code",
            "source": "main_df[\"WEATHER\"].replace(\"Clear\", 0, inplace=True)\nmain_df[\"WEATHER\"].replace(\"Raining\", 3, inplace=True)\nmain_df[\"WEATHER\"].replace(\"Overcast\", 1, inplace=True)\nmain_df[\"WEATHER\"].replace(\"Other\", \"Unknown\", inplace=True)\nmain_df[\"WEATHER\"].replace(\"Snowing\", 3, inplace=True)\nmain_df[\"WEATHER\"].replace(\"Fog/Smog/Smoke\", 2, inplace=True)\nmain_df[\"WEATHER\"].replace(\"Sleet/Hail/Freezing Rain\", 3, inplace=True)\nmain_df[\"WEATHER\"].replace(\"Blowing Sand/Dirt\", 2, inplace=True)\nmain_df[\"WEATHER\"].replace(\"Severe Crosswind\", 2, inplace=True)\nmain_df[\"WEATHER\"].replace(\"Partly Cloudy\", 1, inplace=True)",
            "execution_count": 83,
            "outputs": []
        },
        {
            "metadata": {},
            "cell_type": "markdown",
            "source": "### Encoding Road Conditions(0 = Dry, 1 = Mushy, 2 = Wet)"
        },
        {
            "metadata": {},
            "cell_type": "code",
            "source": "main_df[\"ROADCOND\"].replace(\"Dry\", 0, inplace=True)\nmain_df[\"ROADCOND\"].replace(\"Wet\", 2, inplace=True)\nmain_df[\"ROADCOND\"].replace(\"Ice\", 2, inplace=True)\nmain_df[\"ROADCOND\"].replace(\"Snow/Slush\", 1, inplace=True)\nmain_df[\"ROADCOND\"].replace(\"Other\", \"Unknown\", inplace=True)\nmain_df[\"ROADCOND\"].replace(\"Standing Water\", 2, inplace=True)\nmain_df[\"ROADCOND\"].replace(\"Sand/Mud/Dirt\", 1, inplace=True)\nmain_df[\"ROADCOND\"].replace(\"Oil\", 2, inplace=True)",
            "execution_count": 84,
            "outputs": []
        },
        {
            "metadata": {},
            "cell_type": "markdown",
            "source": "# Making new dataframe with only variables and unique keys"
        },
        {
            "metadata": {},
            "cell_type": "code",
            "source": "selected_columns=main_df[[\"X\",\"Y\",\"INCKEY\",\"INATTENTIONIND\",\"UNDERINFL\",\"WEATHER\",\"ROADCOND\",\"LIGHTCOND\",\"SPEEDING\",\"SEVERITYCODE\"]]\nfeature_df=selected_columns.copy()\nfeature_df.dropna(axis=0,how='any',inplace=True)\nfeature_stats=feature_df.describe()\n\nnp.count_nonzero(feature_df['UNDERINFL'])",
            "execution_count": 85,
            "outputs": [
                {
                    "output_type": "execute_result",
                    "execution_count": 85,
                    "data": {
                        "text/plain": "86923"
                    },
                    "metadata": {}
                }
            ]
        },
        {
            "metadata": {},
            "cell_type": "markdown",
            "source": "# Light Condition"
        },
        {
            "metadata": {},
            "cell_type": "code",
            "source": "lightcondsize = feature_df [\"LIGHTCOND\"].size\n\nfeatureinlightcond = feature_df ['LIGHTCOND'] == 'Unknown'\n\nlightcond = feature_df['LIGHTCOND']\nlightcond = lightcond.values\nlightcond = lightcond[featureinlightcond]\n\nlightcond[0:9036]=0\nlightcond[9036:13417]=1\nlightcond[13417:13961]=2\n\nfeature_df.loc [feature_df.LIGHTCOND == \"Unknown\", 'LIGHTCOND'] = lightcond\n\nfeature_df[\"LIGHTCOND\"]=feature_df[\"LIGHTCOND\"].astype(int)",
            "execution_count": 86,
            "outputs": []
        },
        {
            "metadata": {},
            "cell_type": "markdown",
            "source": "# Road Condition"
        },
        {
            "metadata": {},
            "cell_type": "code",
            "source": "roadcondsize = feature_df [\"ROADCOND\"].size\n\nfeatureinroadcond = feature_df ['ROADCOND'] == 'Unknown'\n\nroadcond = feature_df['LIGHTCOND']\nroadcond = roadcond.values\nroadcond = roadcond[featureinroadcond]\n\nroadcond[0:9954]=0\nroadcond[9954:10040]=1\nroadcond[10040:15163]=2\n\nfeature_df.loc[feature_df.ROADCOND == \"Unknown\", 'ROADCOND'] = roadcond\nfeature_df[\"ROADCOND\"]=feature_df[\"ROADCOND\"].astype(int)",
            "execution_count": 87,
            "outputs": []
        },
        {
            "metadata": {},
            "cell_type": "markdown",
            "source": "# Weather Condition"
        },
        {
            "metadata": {},
            "cell_type": "code",
            "source": "weathersize = feature_df [\"WEATHER\"].size\n\nfeatureinweather = feature_df ['WEATHER'] == 'Unknown'\n\nweather = feature_df['WEATHER']\nweather = weather.values\nweather = weather[featureinweather]\n\nweather[0:10151]=0\nweather[10151:12683]=1\nweather[12683:12742]=2\nweather[12742:15864]=3\n\nfeature_df.loc[feature_df.WEATHER == \"Unknown\", 'WEATHER'] = weather\nfeature_df[\"WEATHER\"]=feature_df[\"WEATHER\"].astype(int)",
            "execution_count": 88,
            "outputs": []
        },
        {
            "metadata": {},
            "cell_type": "markdown",
            "source": "# Converting remaining to int"
        },
        {
            "metadata": {},
            "cell_type": "code",
            "source": "feature_df[\"SPEEDING\"]=feature_df[\"SPEEDING\"].astype(int)\nfeature_df[\"INATTENTIONIND\"]=feature_df[\"INATTENTIONIND\"].astype(int)\nfeature_df[\"UNDERINFL\"]=feature_df[\"UNDERINFL\"].astype(int)",
            "execution_count": 89,
            "outputs": []
        },
        {
            "metadata": {},
            "cell_type": "markdown",
            "source": "# ML Feature Sets"
        },
        {
            "metadata": {},
            "cell_type": "code",
            "source": "X=feature_df[[\"SPEEDING\",\"INATTENTIONIND\",\"UNDERINFL\",\"ROADCOND\",\"WEATHER\",\"LIGHTCOND\"]].values\ny=feature_df[[\"SEVERITYCODE\"]].values",
            "execution_count": 90,
            "outputs": []
        },
        {
            "metadata": {},
            "cell_type": "markdown",
            "source": "# Test/Train split"
        },
        {
            "metadata": {},
            "cell_type": "code",
            "source": "import scipy as sp\nfrom scipy import stats\n!conda install -c conda-forge imbalanced-learn",
            "execution_count": 91,
            "outputs": [
                {
                    "output_type": "stream",
                    "text": "Solving environment: done\n\n## Package Plan ##\n\n  environment location: /opt/conda/envs/Python36\n\n  added / updated specs: \n    - imbalanced-learn\n\n\nThe following packages will be UPDATED:\n\n    ca-certificates:  2018.10.15-ha4d7672_0 conda-forge/label/gcc7 --> 2020.6.20-hecda079_0     conda-forge\n    certifi:          2018.8.24-py36_1001   conda-forge/label/gcc7 --> 2020.6.20-py36h9880bd3_2 conda-forge\n    imbalanced-learn: 0.3.3-py_0            conda-forge/label/gcc7 --> 0.7.0-py_1               conda-forge\n    scikit-learn:     0.19.2-py36h4989274_0                        --> 0.23.2-py36h0573a6f_0               \n\nPreparing transaction: done\nVerifying transaction: done\nExecuting transaction: done\n",
                    "name": "stdout"
                }
            ]
        },
        {
            "metadata": {},
            "cell_type": "code",
            "source": "!conda install -c conda-forge/label/gcc7 imbalanced-learn\n!conda install -c conda-forge/label/cf201901 imbalanced-learn",
            "execution_count": null,
            "outputs": [
                {
                    "output_type": "stream",
                    "text": "Solving environment: done\n\n## Package Plan ##\n\n  environment location: /opt/conda/envs/Python36\n\n  added / updated specs: \n    - imbalanced-learn\n\n\nThe following packages will be DOWNGRADED:\n\n    ca-certificates:  2020.6.20-hecda079_0     conda-forge --> 2018.10.15-ha4d7672_0 conda-forge/label/gcc7\n    certifi:          2020.6.20-py36h9880bd3_2 conda-forge --> 2018.8.24-py36_1001   conda-forge/label/gcc7\n    imbalanced-learn: 0.7.0-py_1               conda-forge --> 0.3.3-py_0            conda-forge/label/gcc7\n    scikit-learn:     0.23.2-py36h0573a6f_0                --> 0.19.2-py36h4989274_0                       \n\nPreparing transaction: done\nVerifying transaction: done\nExecuting transaction: done\nSolving environment: \\ ",
                    "name": "stdout"
                }
            ]
        },
        {
            "metadata": {},
            "cell_type": "code",
            "source": "X_train, X_test, y_train, y_test = train_test_split(X, y, test_size=0.3, random_state=4)\nprint ('Train set:', X_train.shape,  y_train.shape)\nprint ('Test set:', X_test.shape,  y_test.shape)",
            "execution_count": null,
            "outputs": []
        },
        {
            "metadata": {},
            "cell_type": "markdown",
            "source": "# Balance the Data"
        },
        {
            "metadata": {},
            "cell_type": "code",
            "source": "from imblearn.over_sampling import SMOTE",
            "execution_count": null,
            "outputs": []
        },
        {
            "metadata": {},
            "cell_type": "code",
            "source": "os = SMOTE (random_state=0)\nos_data_X, os_data_y= os.fit_sample(X_train, y_train)",
            "execution_count": null,
            "outputs": []
        },
        {
            "metadata": {},
            "cell_type": "markdown",
            "source": "# Make reduced df from feature_df to get a few random points to make map"
        },
        {
            "metadata": {},
            "cell_type": "code",
            "source": "limit = 100005\nreduced_df = feature_df.iloc [0:limit:5, 0:]",
            "execution_count": null,
            "outputs": []
        },
        {
            "metadata": {},
            "cell_type": "markdown",
            "source": "# Folium Map"
        },
        {
            "metadata": {},
            "cell_type": "markdown",
            "source": "### let's start  with a clean copy of the map of San Francisco"
        },
        {
            "metadata": {},
            "cell_type": "code",
            "source": "!conda install -c conda-forge folium=0.5.0 --yes\nimport folium # map rendering library",
            "execution_count": null,
            "outputs": []
        },
        {
            "metadata": {},
            "cell_type": "code",
            "source": "import folium\nimport webbrowser\nfrom folium import plugins",
            "execution_count": null,
            "outputs": []
        },
        {
            "metadata": {},
            "cell_type": "code",
            "source": "seattle_map = folium.Map(location=[47.61536892, -122.3302243], zoom_start=10)",
            "execution_count": null,
            "outputs": []
        },
        {
            "metadata": {},
            "cell_type": "code",
            "source": "",
            "execution_count": null,
            "outputs": []
        },
        {
            "metadata": {},
            "cell_type": "code",
            "source": "",
            "execution_count": null,
            "outputs": []
        },
        {
            "metadata": {},
            "cell_type": "code",
            "source": "",
            "execution_count": null,
            "outputs": []
        },
        {
            "metadata": {},
            "cell_type": "code",
            "source": "",
            "execution_count": null,
            "outputs": []
        },
        {
            "metadata": {},
            "cell_type": "code",
            "source": "",
            "execution_count": null,
            "outputs": []
        },
        {
            "metadata": {},
            "cell_type": "code",
            "source": "",
            "execution_count": null,
            "outputs": []
        },
        {
            "metadata": {},
            "cell_type": "code",
            "source": "",
            "execution_count": null,
            "outputs": []
        },
        {
            "metadata": {},
            "cell_type": "code",
            "source": "",
            "execution_count": null,
            "outputs": []
        },
        {
            "metadata": {},
            "cell_type": "code",
            "source": "",
            "execution_count": null,
            "outputs": []
        },
        {
            "metadata": {},
            "cell_type": "code",
            "source": "",
            "execution_count": null,
            "outputs": []
        },
        {
            "metadata": {},
            "cell_type": "code",
            "source": "url=\"https://www.citypopulation.de/en/germany/essen/admin/\"\nsource = requests.get(url).text\nsoup = BeautifulSoup(source, 'html')\n\n# get the table from the webpage\ntable = soup.find('table',{'class':\"data\"})\n#soup.select('div > p')[1].get_text(strip=True)\ntable_rows = table.find_all('tr')\n\n#table_rows\ndata = []\nfor row in table_rows:\n    data.append([t.text.strip() for t in row.find_all('td')])\ndf = pd.DataFrame(data)\ndf.columns = ['Name', 'Status', 'b', 'c', 'd', 'Population', 'e']\n#The dataframe will consist of three columns: PostalCode, Borough, and Neighborhood\ndf.drop(columns=['b','c','d','e'],inplace=True)\n\ndf.drop([0],inplace = True)\nBorough_df = df[df['Status'].str.contains('Borough')] \nBorough_df = Borough_df.reset_index(drop=True)\n\nBorough_df['Population'] = Borough_df['Population'].astype('str')\nBorough_df['Population'] = Borough_df['Population'].str.replace(',', '')\nBorough_df['Population'] = pd.to_numeric(Borough_df['Population'], errors='coerce')\n\nprint(Borough_df)",
            "execution_count": null,
            "outputs": []
        },
        {
            "metadata": {},
            "cell_type": "code",
            "source": "Borough_df.dtypes",
            "execution_count": null,
            "outputs": []
        },
        {
            "metadata": {},
            "cell_type": "code",
            "source": "",
            "execution_count": null,
            "outputs": []
        },
        {
            "metadata": {},
            "cell_type": "code",
            "source": "",
            "execution_count": null,
            "outputs": []
        },
        {
            "metadata": {},
            "cell_type": "code",
            "source": "",
            "execution_count": null,
            "outputs": []
        },
        {
            "metadata": {},
            "cell_type": "code",
            "source": "url=\"https://de.wikipedia.org/wiki/Benutzer_Diskussion:Hassan_Yousef_1985\"\nsource = requests.get(url).text\nsoup = BeautifulSoup(source, 'html')\n\n# get the table from the webpage\ntable = soup.find('table',{'class':'wikitable'})\ntable_rows = table.find_all('tr')\n\n#table_rows\ndata = []\nfor row in table_rows:\n    data.append([t.text.strip() for t in row.find_all('td')])\n\n#The dataframe will consist of three columns: PostalCode, Borough, and Neighborhood\ndf_km = pd.DataFrame(data, columns=['Borough', 'Area in km\u00b2', 'Population','Population Density'])\ndf_km.drop([0],inplace = True)\ndf_km = df_km.reset_index(drop=True) # to start index with 0\nprint(df_km)",
            "execution_count": null,
            "outputs": []
        },
        {
            "metadata": {},
            "cell_type": "code",
            "source": "df_km.dtypes",
            "execution_count": null,
            "outputs": []
        },
        {
            "metadata": {},
            "cell_type": "markdown",
            "source": "### Convert the column \"Area in km\u00b2\" from type \"object\" to type \"float64\""
        },
        {
            "metadata": {},
            "cell_type": "code",
            "source": "df_km['Area in km\u00b2'] = df_km['Area in km\u00b2'].astype('str')\ndf_km['Area in km\u00b2'] = df_km['Area in km\u00b2'].str.replace(',', '.')\ndf_km['Area in km\u00b2'] = pd.to_numeric(df_km['Area in km\u00b2'], errors='coerce')",
            "execution_count": null,
            "outputs": []
        },
        {
            "metadata": {},
            "cell_type": "code",
            "source": "print(df_km)",
            "execution_count": null,
            "outputs": []
        },
        {
            "metadata": {},
            "cell_type": "code",
            "source": "df_km.dtypes",
            "execution_count": null,
            "outputs": []
        },
        {
            "metadata": {},
            "cell_type": "code",
            "source": "url=\"https://en.wikipedia.org/wiki/User:Hassan_Yousef_1985/sandbox\"\nsource = requests.get(url).text\nsoup = BeautifulSoup(source, 'html')\n\n# get the table from the webpage\ntable = soup.find('table',{'class':'wikitable'})\ntable_rows = table.find_all('tr')\n\n#table_rows\ndata = []\nfor row in table_rows:\n    data.append([t.text.strip() for t in row.find_all('td')])\n\n#The dataframe will consist of three columns: PostalCode, Borough, and Neighborhood\ndf = pd.DataFrame(data, columns=['Borough','Under 18'])\ndf.drop([0],inplace = True)\ndf = df.reset_index(drop=True) # to start index with 0\nprint(df)",
            "execution_count": null,
            "outputs": []
        },
        {
            "metadata": {},
            "cell_type": "markdown",
            "source": "## Load the coordinates of the boroughs into a dataframe."
        },
        {
            "metadata": {},
            "cell_type": "code",
            "source": "from pandas import read_excel\nmy_sheet = 'Sheet1' # change it to the sheet name\nfile_name = 'Lon-Lat.xlsx' # change it to the name of your excel file\ndf_lon_lat = read_excel(file_name, sheet_name = my_sheet)\nprint(df_lon_lat) # shows headers with top 5 rows",
            "execution_count": null,
            "outputs": []
        },
        {
            "metadata": {},
            "cell_type": "markdown",
            "source": "## Load the population and population density of each borough into a new dataframe."
        },
        {
            "metadata": {},
            "cell_type": "code",
            "source": "url=\"https://de.wikipedia.org/wiki/Benutzer_Diskussion:Hassan_Yousef_1985\"\nsource = requests.get(url).text\nsoup = BeautifulSoup(source, 'html')\n\n# get the table from the webpage\ntable = soup.find('table',{'class':'wikitable'})\ntable_rows = table.find_all('tr')\n\n#table_rows\ndata = []\nfor row in table_rows:\n    data.append([t.text.strip() for t in row.find_all('td')])\n\n#The dataframe will consist of three columns: PostalCode, Borough, and Neighborhood\ndf_population = pd.DataFrame(data, columns=['Borough', 'Area in km\u00b2', 'Population','Population Density'])\ndf_population.drop([0],inplace = True)\ndf_population.drop(df_population.columns[1],axis=1, inplace = True)\ndf_population = df_population.reset_index(drop=True) # to start index with 0\nprint(df_population)",
            "execution_count": null,
            "outputs": []
        },
        {
            "metadata": {},
            "cell_type": "markdown",
            "source": "## Load the the percentage of underages in each borough into a new dataframe."
        },
        {
            "metadata": {},
            "cell_type": "code",
            "source": "my_sheet = 'Sheet1' # change it to the sheet name\nfile_name = 'under18.xlsx' # change it to the name of your excel file\ndf_18 = read_excel(file_name, sheet_name = my_sheet)\ndf_18 = df_18.rename(columns={'under 18':'under_18'})\ndf_18['Percentage under 19 years old'] = (df_18['under_18'] * 100)/ df_18['under_18'].sum()\nprint(df_18) # shows headers with top 5 rows",
            "execution_count": null,
            "outputs": []
        },
        {
            "metadata": {},
            "cell_type": "markdown",
            "source": "## Let's now apply some math into a dataframes df_population and df_18 to obtain the population of full age and create a new dataframe df_population"
        },
        {
            "metadata": {},
            "cell_type": "code",
            "source": "df_population['Population'] = df_18[\"total\"].subtract(df_18[\"under_18\"])\ndf_population['Population Density'] =  round(df_population['Population'].div(df_km['Area in km\u00b2']))\ndf_population[['Population Density','Population']] = df_population[['Population Density','Population']].astype('int64')\nprint(df_population)",
            "execution_count": null,
            "outputs": []
        },
        {
            "metadata": {},
            "cell_type": "markdown",
            "source": "## Load the the data of Net income per person in each borough into a new dataframe."
        },
        {
            "metadata": {},
            "cell_type": "code",
            "source": "my_sheet = 'Sheet1' # change it to the sheet name\nfile_name = 'Net_income.xlsx' # change it to the name of your excel file\ndf_income = read_excel(file_name, sheet_name = my_sheet)\ndf_income = df_income.rename(columns={'Net income':'Net_income'})\nprint(df_income) # shows headers with top 5 rows",
            "execution_count": null,
            "outputs": []
        },
        {
            "metadata": {},
            "cell_type": "markdown",
            "source": "## Let us merege two dataframes"
        },
        {
            "metadata": {},
            "cell_type": "code",
            "source": "df1 = df_lon_lat.join(df_population.set_index('Borough'), on='Borough')\ndf2 = df1.join(df_income.set_index('Borough'), on='Borough')\nprint(df2)",
            "execution_count": null,
            "outputs": []
        },
        {
            "metadata": {},
            "cell_type": "markdown",
            "source": "## Use geopy library to get the latitude and longitude values of Essen City."
        },
        {
            "metadata": {},
            "cell_type": "code",
            "source": "address = 'Essen'\ngeolocator = Nominatim(user_agent=\"hy_explorer\")\nlocation = geolocator.geocode(address)\nlatitude = location.latitude\nlongitude = location.longitude\nprint('The geograpical coordinate of Essen are {}, {}.'.format(latitude, longitude))",
            "execution_count": null,
            "outputs": []
        },
        {
            "metadata": {},
            "cell_type": "markdown",
            "source": "## Define Foursquare Credentials and Version."
        },
        {
            "metadata": {},
            "cell_type": "code",
            "source": "CLIENT_ID = 'CZY0LLMAXSKEO2SSHA2143QJTLT31ECR11LHEUNKQSKRKOSP' #  Foursquare ID\nCLIENT_SECRET = 'SCCUW1BWQHHQ5ZNAGC3AU4XER4OME5IBEE5FDYBG4ZC4TWDD' #  Foursquare Secret\nVERSION = '20200804' # Foursquare API version\n\nprint('The credentails:')\nprint('CLIENT_ID: ' + CLIENT_ID)\nprint('CLIENT_SECRET:' + CLIENT_SECRET)",
            "execution_count": null,
            "outputs": []
        },
        {
            "metadata": {},
            "cell_type": "markdown",
            "source": "## Create a function to repeat the process of exploring the venues for all the neighborhoods in Essen"
        },
        {
            "metadata": {},
            "cell_type": "code",
            "source": "def getNearbyVenues(names, latitudes, longitudes, radius=500):\n    \n    venues_list=[]\n    for name, lat, lng in zip(names, latitudes, longitudes):\n        print(name)\n            \n        # create the API request URL\n        url = 'https://api.foursquare.com/v2/venues/explore?&client_id={}&client_secret={}&v={}&ll={},{}&radius={}&limit={}'.format(\n            CLIENT_ID, \n            CLIENT_SECRET, \n            VERSION, \n            lat, \n            lng, \n            radius, \n            LIMIT)\n            \n        # make the GET request\n        results = requests.get(url).json()[\"response\"]['groups'][0]['items']\n        \n        # return only relevant information for each nearby venue\n        venues_list.append([(\n            name, \n            lat, \n            lng, \n            v['venue']['name'], \n            v['venue']['location']['lat'], \n            v['venue']['location']['lng'],  \n            v['venue']['categories'][0]['name']) for v in results])\n\n    nearby_venues = pd.DataFrame([item for venue_list in venues_list for item in venue_list])\n    nearby_venues.columns = ['Borough', \n                  'Borough Latitude', \n                  'Borough Longitude', \n                  'Venue', \n                  'Venue Latitude', \n                  'Venue Longitude', \n                  'Venue Category']\n    \n    return(nearby_venues)",
            "execution_count": null,
            "outputs": []
        },
        {
            "metadata": {},
            "cell_type": "markdown",
            "source": "## Create a new dataframe called Essen_venues"
        },
        {
            "metadata": {},
            "cell_type": "code",
            "source": "LIMIT = 100\nradius = 1000\nEssen_venues = getNearbyVenues(names=df2['Borough'],\n                                   latitudes=df2['Latitude'],\n                                   longitudes=df2['Longitude'],\n                                   radius = radius\n                                  )",
            "execution_count": null,
            "outputs": []
        },
        {
            "metadata": {},
            "cell_type": "code",
            "source": "print(Essen_venues.shape)\nprint(Essen_venues)",
            "execution_count": null,
            "outputs": []
        },
        {
            "metadata": {},
            "cell_type": "markdown",
            "source": "## Let's check how many venues were returned for each neighborhood"
        },
        {
            "metadata": {},
            "cell_type": "code",
            "source": "print(Essen_venues.groupby('Borough').count())",
            "execution_count": null,
            "outputs": []
        },
        {
            "metadata": {},
            "cell_type": "markdown",
            "source": "## Let's check how many venues were returned for each neighborhood in special cases"
        },
        {
            "metadata": {},
            "cell_type": "code",
            "source": "Essen_venues[(Essen_venues['Venue Category'].str.contains('Beer', regex=False)) |\n             (Essen_venues['Venue Category'].str.contains('Beer Garden', regex=False)) |\n             (Essen_venues['Venue Category'].str.contains('Restaurant', regex=False)) |\n             (Essen_venues['Venue Category'].str.contains('Bar', regex=False)) |\n             (Essen_venues['Venue Category'].str.contains('Taverna', regex=False))].count()",
            "execution_count": null,
            "outputs": []
        },
        {
            "metadata": {},
            "cell_type": "code",
            "source": "Essen_venues[(Essen_venues['Venue Category'].str.contains('Beer', regex=False)) |\n             (Essen_venues['Venue Category'].str.contains('Beer Garden', regex=False)) |\n             (Essen_venues['Venue Category'].str.contains('German Restaurant', regex=False)) |\n             (Essen_venues['Venue Category'].str.contains('Bar', regex=False)) |\n             (Essen_venues['Venue Category'].str.contains('Taverna', regex=False))].count()",
            "execution_count": null,
            "outputs": []
        },
        {
            "metadata": {},
            "cell_type": "markdown",
            "source": "## Let's check how many Restaurants were returned for each neighborhood"
        },
        {
            "metadata": {},
            "cell_type": "code",
            "source": "Essen_restaurant = Essen_venues[(Essen_venues['Venue Category'].str.contains('Beer', regex=False)) |\n                 (Essen_venues['Venue Category'].str.contains('Beer Garden', regex=False)) |\n                 (Essen_venues['Venue Category'].str.contains('Restaurant', regex=False)) |\n                 (Essen_venues['Venue Category'].str.contains('Bar', regex=False)) |\n                 (Essen_venues['Venue Category'].str.contains('Taverna', regex=False))].groupby(['Borough']).count()\nEssen_restaurant.drop(['Borough Latitude', 'Borough Longitude', 'Venue Longitude', 'Venue', 'Venue Latitude'], axis = 1, inplace = True)\nEssen_restaurant.rename(columns = {'Venue Category':'Number of restaurants'}, inplace=True)\nprint(Essen_restaurant)",
            "execution_count": null,
            "outputs": []
        },
        {
            "metadata": {},
            "cell_type": "markdown",
            "source": "## Let's check how many Beer Restaurants were returned for each neighborhood"
        },
        {
            "metadata": {},
            "cell_type": "code",
            "source": "Essen_beer = Essen_venues[(Essen_venues['Venue Category'].str.contains('Beer', regex=False)) |\n                 (Essen_venues['Venue Category'].str.contains('Beer Garden', regex=False)) |\n                 (Essen_venues['Venue Category'].str.contains('German Restaurant', regex=False)) |\n                 (Essen_venues['Venue Category'].str.contains('Bar', regex=False)) |\n                 (Essen_venues['Venue Category'].str.contains('Taverna', regex=False))].groupby(['Borough']).count()\nEssen_beer.drop(['Borough Latitude', 'Borough Longitude', 'Venue Longitude', 'Venue', 'Venue Latitude'], axis = 1, inplace = True)\nEssen_beer.rename(columns = {'Venue Category':'Number of beer restaurants'}, inplace=True)\nprint(Essen_beer)",
            "execution_count": null,
            "outputs": []
        },
        {
            "metadata": {},
            "cell_type": "markdown",
            "source": "## join above dataframe to the main df_lon_lat"
        },
        {
            "metadata": {},
            "cell_type": "markdown",
            "source": "## Number of the restaurants with the main dataframe"
        },
        {
            "metadata": {},
            "cell_type": "code",
            "source": "df_res = df2.join(Essen_restaurant, on='Borough')\nprint(df_res)",
            "execution_count": null,
            "outputs": []
        },
        {
            "metadata": {},
            "cell_type": "markdown",
            "source": "## Number of the beer restaurants with the main dataframe"
        },
        {
            "metadata": {},
            "cell_type": "code",
            "source": "df_res_beer = df_res.join(Essen_beer, on='Borough')\nprint(df_res_beer)",
            "execution_count": null,
            "outputs": []
        },
        {
            "metadata": {},
            "cell_type": "code",
            "source": "df_res_beer['Number of beer restaurants']",
            "execution_count": null,
            "outputs": []
        },
        {
            "metadata": {},
            "cell_type": "markdown",
            "source": "# 3. Methodology and Analysis"
        },
        {
            "metadata": {},
            "cell_type": "markdown",
            "source": "After cleaning and preparing the data, let us identify the steps, that have to be performed in order to find the most optimal boroughs. Firstly, we will apply some basic exploratory analysis to our data. For that let's find the location of each borough on the map. Then we can visually inspect some values in our data with the help of bar charts. Secondly, we have the possibility to reduce the number features in data frame by replacing them with more reasonable data. Finally, we will perform cluster analysis to find the best cluster of boroughs with meaningful features."
        },
        {
            "metadata": {},
            "cell_type": "markdown",
            "source": "## 3.1 Exploratory Data Analysis"
        },
        {
            "metadata": {},
            "cell_type": "markdown",
            "source": "## Let's first derive some basic statistical values of our data."
        },
        {
            "metadata": {},
            "cell_type": "code",
            "source": "print(df_res_beer.describe())",
            "execution_count": null,
            "outputs": []
        },
        {
            "metadata": {},
            "cell_type": "markdown",
            "source": "## It's also would be quite useful to visualize the center locations of each borough. For that, we need to create a map of Essen with boroughs superimposed on top."
        },
        {
            "metadata": {},
            "cell_type": "code",
            "source": "# create map of Essen  using latitude and longitude values\nmap_newyork = folium.Map(location=[latitude, longitude], zoom_start=10)\n\n# add markers to map\nfor lat, lng, borough in zip(df_res_beer['Latitude'], df_res_beer['Longitude'], df_res_beer['Borough']):\n    label = '{}'.format(borough)\n    label = folium.Popup(label, parse_html=True)\n    folium.CircleMarker(\n        [lat, lng],\n        radius=5,\n        popup=label,\n        color='blue',\n        fill=True,\n        fill_color='#3186cc',\n        fill_opacity=0.7,\n        parse_html=False).add_to(map_newyork)  \n    \nmap_newyork",
            "execution_count": null,
            "outputs": []
        },
        {
            "metadata": {},
            "cell_type": "markdown",
            "source": "## Visualization. In our case barcharts will be utilized."
        },
        {
            "metadata": {},
            "cell_type": "code",
            "source": "conda install -c anaconda pandas-profiling",
            "execution_count": null,
            "outputs": []
        },
        {
            "metadata": {},
            "cell_type": "code",
            "source": "import matplotlib.pyplot as plt\nfrom matplotlib.pyplot import *",
            "execution_count": null,
            "outputs": []
        },
        {
            "metadata": {},
            "cell_type": "code",
            "source": "df_res_beer['Population'] = df_res_beer['Population'].astype('str')\ndf_res_beer['Population'] = df_res_beer['Population'].str.replace(',', '')\ndf_res_beer['Population'] = pd.to_numeric(df_res_beer['Population'], errors='coerce')\n\ndf_res_beer['Population Density'] = df_res_beer['Population Density'].astype('str')\ndf_res_beer['Population Density'] = df_res_beer['Population Density'].str.replace(',', '')\ndf_res_beer['Population Density'] = pd.to_numeric(df_res_beer['Population Density'], errors='coerce')\ndf_res_beer[['Borough','Population' ,'Population Density']].dtypes",
            "execution_count": null,
            "outputs": []
        },
        {
            "metadata": {},
            "cell_type": "code",
            "source": "# step 2: plot data\ndf_res_beer[['Borough', 'Population']].plot(kind='barh', figsize=(15, 9), legend = None)\n\nplt.xlabel('Number of inhabitants') # add to x-label to the plot\nplt.ylabel('Borough') # add y-label to the plot\nplt.title('Population in Essen (2020)') # add title to the plot\nplt.yticks (np.arange(9), df_res_beer['Borough'])\nplt.show()",
            "execution_count": null,
            "outputs": []
        },
        {
            "metadata": {},
            "cell_type": "code",
            "source": "# step 2: plot data\ndf_res_beer[['Borough', 'Population Density']].plot(kind='barh', figsize=(15, 9), legend = None)\n\nplt.xlabel('Population Density') # add to x-label to the plot\nplt.ylabel('Borough') # add y-label to the plot\nplt.title('Population density in Essen (2020)') # add title to the plot\nplt.yticks (np.arange(9), df_res_beer['Borough'])\nplt.show()",
            "execution_count": null,
            "outputs": []
        },
        {
            "metadata": {},
            "cell_type": "code",
            "source": "# step 2: plot data\ndf_res_beer[['Borough','Number of restaurants']].plot(kind='barh', figsize=(15, 9), legend = None)\n#df[['Borough', 'Population']].plot(kind='barh', figsize=(15, 9), legend = None)\nplt.xlabel('Number of Restaurants') # add to x-label to the plot\nplt.ylabel('Borough') # add y-label to the plot\nplt.title('Restaurants in Essen (2020)') # add title to the plot\nplt.yticks (np.arange(9), df_res_beer['Borough'])\nplt.show()",
            "execution_count": null,
            "outputs": []
        },
        {
            "metadata": {},
            "cell_type": "code",
            "source": "# step 2: plot data\ndf_res_beer[['Borough','Number of beer restaurants']].plot(kind='barh', figsize=(15, 9), legend = None)\n#df[['Borough', 'Population']].plot(kind='barh', figsize=(15, 9), legend = None)\nplt.xlabel('Number of beer Restaurants') # add to x-label to the plot\nplt.ylabel('Borough') # add y-label to the plot\nplt.title('Beer Restaurants in Essen (2020)') # add title to the plot\nplt.yticks (np.arange(9), df_res_beer['Borough'])\nplt.show()",
            "execution_count": null,
            "outputs": []
        },
        {
            "metadata": {},
            "cell_type": "code",
            "source": "# step 2: plot data\ndf_res_beer[['Borough','Net_income']].plot(kind='barh', figsize=(15, 9), legend = None)\n#df[['Borough', 'Population']].plot(kind='barh', figsize=(15, 9), legend = None)\nplt.xlabel('Net income per person') # add to x-label to the plot\nplt.ylabel('Borough') # add y-label to the plot\nplt.title('Net income in Essen (2020)') # add title to the plot\nplt.yticks (np.arange(9), df_res_beer['Borough'])\nplt.show()",
            "execution_count": null,
            "outputs": []
        },
        {
            "metadata": {},
            "cell_type": "code",
            "source": "# step 2: plot data\ndf_res_beer[['Number of restaurants', 'Number of beer restaurants']].plot(kind='barh', figsize=(15, 9), width = 0.8)\nplt.ylabel('Borough') # add y-label to the plot\nplt.title('Number of restaurants') # add title to the plot\nplt.yticks (np.arange(9), df['Borough'])\nplt.show()",
            "execution_count": null,
            "outputs": []
        },
        {
            "metadata": {},
            "cell_type": "markdown",
            "source": "## 3.2 Cluster Analysis"
        },
        {
            "metadata": {},
            "cell_type": "markdown",
            "source": "In order to identify groups (clusters) with similar characteristics, let's us apply the unsupervised learning method to our data, namely K-Means algorithm. But before that, we can reduce the number of features and remove columns \"Population\", \"Number of restaurants\" and \"Number of beer restaurants\". These three columns we can replace with two new ones, namely, \"Number of restaurants per thousand people\" and \"Number of beer restaurants per thousand people\"."
        },
        {
            "metadata": {},
            "cell_type": "code",
            "source": "df_clusters = df_res_beer.drop(['Borough','Latitude', 'Longitude', 'Population Density'],axis = 1)\ndf_clusters['Number of restaurants per 1000 people'] = df_clusters['Number of restaurants']/(df_clusters['Population']/1000)\ndf_clusters['Number of beer restaurants per 1000 people'] = df_clusters['Number of beer restaurants']/(df_clusters['Population']/1000)\ndf_clusters = df_clusters.drop(['Population', 'Number of restaurants', 'Number of beer restaurants'], axis = 1)\ndf_clusters.head()",
            "execution_count": null,
            "outputs": []
        },
        {
            "metadata": {},
            "cell_type": "markdown",
            "source": "### We have to do some Normalizarion"
        },
        {
            "metadata": {},
            "cell_type": "code",
            "source": "from sklearn.preprocessing import StandardScaler\ndf_clusters = StandardScaler().fit_transform(df_clusters)\ndf_clusters",
            "execution_count": null,
            "outputs": []
        },
        {
            "metadata": {},
            "cell_type": "markdown",
            "source": "## we want to replace nan(Not A Number) with zero"
        },
        {
            "metadata": {},
            "cell_type": "code",
            "source": "M = pd.DataFrame(df_clusters)\ndf_clusters =M",
            "execution_count": null,
            "outputs": []
        },
        {
            "metadata": {},
            "cell_type": "code",
            "source": "df_clusters.fillna(0, inplace=True)",
            "execution_count": null,
            "outputs": []
        },
        {
            "metadata": {},
            "cell_type": "code",
            "source": "df_clusters",
            "execution_count": null,
            "outputs": []
        },
        {
            "metadata": {},
            "cell_type": "markdown",
            "source": "### To identify the optimal number of clusters, the Elbow method is used:"
        },
        {
            "metadata": {},
            "cell_type": "code",
            "source": "from sklearn.cluster import KMeans\nfrom sklearn import metrics\nfrom scipy.spatial.distance import cdist\nimport numpy as np\n\n\ndistortions = []\nK = range(1,10)\nfor k in K:\n    kmeanModel = KMeans(n_clusters=k).fit(df_clusters)\n    kmeanModel.fit(df_clusters)\n    distortions.append(sum(np.min(cdist(df_clusters, kmeanModel.cluster_centers_, 'euclidean'), axis=1)) / df_clusters.shape[0])\n\n# Plot the elbow\nplt.plot(K, distortions, 'bx-')\nplt.xlabel('k')\nplt.ylabel('Distortion')\nplt.title('The Elbow Method showing the optimal k')\nplt.show()",
            "execution_count": null,
            "outputs": []
        },
        {
            "metadata": {},
            "cell_type": "markdown",
            "source": "### On the graph, we can see that 3 clusters are enough"
        },
        {
            "metadata": {},
            "cell_type": "code",
            "source": "# set number of clusters\nkclusters = 3\n\n# run k-means clustering\nkmeans = KMeans(n_clusters=kclusters, random_state=0).fit(df_clusters)\n\n# check cluster labels generated for each row in the dataframe\nkmeans.labels_[0:9]",
            "execution_count": null,
            "outputs": []
        },
        {
            "metadata": {},
            "cell_type": "markdown",
            "source": "### Let's insert the Cluster labels into our master dataframe."
        },
        {
            "metadata": {},
            "cell_type": "code",
            "source": "df_res_beer.insert(0, 'Cluster Labels', kmeans.labels_)\ndf_res_beer",
            "execution_count": null,
            "outputs": []
        },
        {
            "metadata": {},
            "cell_type": "markdown",
            "source": "### Now, it's time to create maps representing our clusters. The first map is illustrating the clusters where the radius of the Circle marker is proportional to a Number of restaurants per 1000 people in each borough."
        },
        {
            "metadata": {},
            "cell_type": "code",
            "source": "# create map\nmap_clusters = folium.Map(location=[latitude, longitude], zoom_start=11)\ncolours = ['red', 'black', 'blue']\n# set color scheme for the clusters\nx = np.arange(kclusters)\nys = [i + x + (i*x)**2 for i in range(kclusters)]\ncolors_array = cm.rainbow(np.linspace(0, 1, len(ys)))\nrainbow = [colors.rgb2hex(i) for i in colors_array]\n\n# add markers to the map\nmarkers_colors = []\nfor lat, lon, poi, cluster, income in zip(df_res_beer['Latitude'], df_res_beer['Longitude'], df_res_beer['Borough'], df_res_beer['Cluster Labels'], df_clusters.iloc[:,1]):\n    label = folium.Popup(str(poi) + ' Cluster ' + str(cluster), parse_html=True)\n    folium.CircleMarker(\n        [lat, lon],\n        radius=income*5+15,\n        popup=label,\n        #color=rainbow[cluster-1],\n        color=colours[cluster],\n        fill=True,\n        #fill_color=rainbow[cluster-1],\n        fill_color=colours[cluster],\n        fill_opacity=0.7).add_to(map_clusters)\n       \nmap_clusters",
            "execution_count": null,
            "outputs": []
        },
        {
            "metadata": {},
            "cell_type": "markdown",
            "source": "### The second map is illustrating the clusters where the radius of the Circle marker is proportional to a Net income per person in each borough."
        },
        {
            "metadata": {},
            "cell_type": "code",
            "source": "# create map\nmap_clusters = folium.Map(location=[latitude, longitude], zoom_start=11)\ncolours = ['red', 'black', 'blue']\n# set color scheme for the clusters\nx = np.arange(kclusters)\nys = [i + x + (i*x)**2 for i in range(kclusters)]\ncolors_array = cm.rainbow(np.linspace(0, 1, len(ys)))\nrainbow = [colors.rgb2hex(i) for i in colors_array]\n\n# add markers to the map\nmarkers_colors = []\nfor lat, lon, poi, cluster, income in zip(df_res_beer['Latitude'], df_res_beer['Longitude'], df_res_beer['Borough'], df_res_beer['Cluster Labels'], df_res_beer['Net_income']):\n    label = folium.Popup(str(poi) + ' Cluster ' + str(cluster), parse_html=True)\n    folium.CircleMarker(\n        [lat, lon],\n        radius=income*0.5-25,\n        popup=label,\n        #color=rainbow[cluster-1],\n        color=colours[cluster],\n        fill=True,\n        #fill_color=rainbow[cluster-1],\n        fill_color=colours[cluster],\n        fill_opacity=0.7).add_to(map_clusters)\n       \nmap_clusters",
            "execution_count": null,
            "outputs": []
        },
        {
            "metadata": {},
            "cell_type": "markdown",
            "source": "### We can see that one of the clusters (black circle) consists only of one borough - Stadtbezirk IX. Let's look at the scatter plots of our data and define our clusters with colors. The grey circle marker is representing the centroid of each cluster. Don't forger that our data is normalized, so the axes do not deliver real values."
        },
        {
            "metadata": {},
            "cell_type": "code",
            "source": "import matplotlib.pyplot as plt\ny_kmeans = kmeans.predict(df_clusters)\nplt.scatter(df_clusters.iloc[:, 0], df_clusters.iloc[:, 1], c=y_kmeans, s=50, cmap='viridis')\n\ncenters = kmeans.cluster_centers_\nplt.scatter(centers[:, 0], centers[:, 1], c='black', s=200, alpha=0.5);\nplt.xlabel('Net income per person')\nplt.ylabel('Number of restaurants per 1000 people')\nplt.show()",
            "execution_count": null,
            "outputs": []
        },
        {
            "metadata": {},
            "cell_type": "code",
            "source": "y_kmeans = kmeans.predict(df_clusters)\nplt.scatter(df_clusters.iloc[:, 0], df_clusters.iloc[:, 2], c=y_kmeans, s=50, cmap='viridis')\n\ncenters = kmeans.cluster_centers_\nplt.scatter(centers[:, 0], centers[:, 2], c='black', s=200, alpha=0.5);\nplt.xlabel('Net income per person')\nplt.ylabel('Number of beer restaurants per 1000 people')\nplt.show()",
            "execution_count": null,
            "outputs": []
        },
        {
            "metadata": {},
            "cell_type": "markdown",
            "source": "In general, this borough has a good concentraition of beer restaurants and restaurants in general. From maps above we can easily say that it is Stadtbezirk IX. Two other clusters were defined according to a Net income per person. Let us see which boroughs belongs to which clusters."
        },
        {
            "metadata": {},
            "cell_type": "code",
            "source": "df_res_beer[(df_res_beer['Cluster Labels'] == 0)]",
            "execution_count": null,
            "outputs": []
        },
        {
            "metadata": {},
            "cell_type": "code",
            "source": "df_res_beer[(df_res_beer['Cluster Labels'] == 2)]",
            "execution_count": null,
            "outputs": []
        },
        {
            "metadata": {},
            "cell_type": "code",
            "source": "df_res_beer[(df_res_beer['Cluster Labels'] == 1)]",
            "execution_count": null,
            "outputs": []
        },
        {
            "metadata": {},
            "cell_type": "markdown",
            "source": "# 4. Results and discussion"
        },
        {
            "metadata": {},
            "cell_type": "markdown",
            "source": "##### During the analysis, three clusters were defined. One cluster, that consists of only one area, has been defined as the outsider, due to the high number of competitors, which means that the placement of beer restaurant in that area is too risky venture. Two other groups were clustered according to the amount income per person. It is obvious, that the cluster with highest average income per person has the highest priority for us (Cluster 2).\n##### Stadtbezirk II and Stadtbezirk III are the most attractive options in terms of distances to the center of their own cluster and relatively high value of income per person. However, one can perform further analysis of this particular cluster with additional features, such as distance to the center of city or to the center of cluster. After defining a borough one can perform deeper analysis to find the best exact location of the restaurant taking into account factors such as number of parking places in the vicinity of the spot or distances to the main streets.\n##### What could be done better? \n##### Foursquare doesn't represent the full picture, since many venues are not on the list. For that reason, another maps could be utilized such as Google map or Openstreet map.\n##### Boroughs have too complex geometry, thus defining the closest venues within the certain radius brings additional error to our analysis."
        },
        {
            "metadata": {},
            "cell_type": "markdown",
            "source": "# 5. Conclusion"
        },
        {
            "metadata": {},
            "cell_type": "markdown",
            "source": "##### To conclude, the basic data analysis was performed to identify the most optimal boroughs for the placement of the beer restaurant in the city of Essen. During the analysis, several important statistical features of the boroughs were explored and visualized. Furthermore, clustering helped to highlight the group of optimal areas. Finally, Stadtbezirk II and Stadtbezirk III were chosen as the most attractive options for the further analysis."
        },
        {
            "metadata": {},
            "cell_type": "code",
            "source": "",
            "execution_count": null,
            "outputs": []
        }
    ],
    "metadata": {
        "kernelspec": {
            "name": "python3",
            "display_name": "Python 3.6",
            "language": "python"
        },
        "language_info": {
            "name": "python",
            "version": "3.6.9",
            "mimetype": "text/x-python",
            "codemirror_mode": {
                "name": "ipython",
                "version": 3
            },
            "pygments_lexer": "ipython3",
            "nbconvert_exporter": "python",
            "file_extension": ".py"
        }
    },
    "nbformat": 4,
    "nbformat_minor": 4
}