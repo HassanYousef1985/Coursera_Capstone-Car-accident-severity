{
    "cells": [
        {
            "metadata": {},
            "cell_type": "markdown",
            "source": "# Data"
        },
        {
            "metadata": {},
            "cell_type": "markdown",
            "source": "## Data Description"
        },
        {
            "metadata": {},
            "cell_type": "markdown",
            "source": "This is an extensive data set from the Seattle Police Department, with over 190,000 observations collected over the last 15+ years. To accurately build a model to prevent future accidents and/or reduce their severity, we will use the following attributes \u2014 ADDRTYPE, WEATHER, ROADCOND, VEHCOUNT, PERSONCOUNT."
        },
        {
            "metadata": {},
            "cell_type": "markdown",
            "source": "restore"
        },
        {
            "metadata": {},
            "cell_type": "code",
            "source": "",
            "execution_count": null,
            "outputs": []
        }
    ],
    "metadata": {
        "kernelspec": {
            "name": "python3",
            "display_name": "Python 3.6",
            "language": "python"
        },
        "language_info": {
            "name": "python",
            "version": "3.6.9",
            "mimetype": "text/x-python",
            "codemirror_mode": {
                "name": "ipython",
                "version": 3
            },
            "pygments_lexer": "ipython3",
            "nbconvert_exporter": "python",
            "file_extension": ".py"
        }
    },
    "nbformat": 4,
    "nbformat_minor": 1
}